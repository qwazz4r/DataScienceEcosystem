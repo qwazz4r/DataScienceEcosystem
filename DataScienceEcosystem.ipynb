{
 "cells": [
  {
   "cell_type": "markdown",
   "id": "af3665a6-833c-4d94-b3f9-0a99eb2a70e2",
   "metadata": {},
   "source": [
    "# Data Science Tools and Ecosystem"
   ]
  },
  {
   "cell_type": "markdown",
   "id": "4fa7b3fc-461a-45c0-aef3-8a7b8c1ed852",
   "metadata": {},
   "source": [
    "In this notebook, Data Science Tools and Ecosystem are summarized."
   ]
  },
  {
   "cell_type": "markdown",
   "id": "a9a1ed7a-83c0-48ea-b988-b8acb60cfd31",
   "metadata": {},
   "source": [
    "Some of the popular languages that Data Scientists use are:  \n",
    "1. Python  \n",
    "2. R  \n",
    "3. SQL  \n",
    "4. Julia  \n",
    "5. Java  "
   ]
  },
  {
   "cell_type": "markdown",
   "id": "fb1b7547-608c-4766-9032-12b7b706b033",
   "metadata": {},
   "source": [
    "Some of the commonly used libraries used by Data Scientists include:  \n",
    "1. Numpy\n",
    "2. Matplotlib\n",
    "3. Scikit-learn\n",
    "4. Pandas\n",
    "5. TensorFlow"
   ]
  },
  {
   "cell_type": "markdown",
   "id": "303a8dd5-62fe-41ef-ad2c-d117d9dffd2e",
   "metadata": {},
   "source": [
    "| Data Science Tools |\n",
    "|--------------------|\n",
    "| RStudio |\n",
    "| Apache Spark | \n",
    "| Hadoop |"
   ]
  },
  {
   "cell_type": "markdown",
   "id": "0c968734-f371-43e5-a693-016c0322b99e",
   "metadata": {},
   "source": [
    "### Below are a few examples of evaluating arithmetic expressions in Python"
   ]
  },
  {
   "cell_type": "code",
   "execution_count": 110,
   "id": "273580bc-29fb-4936-9fd4-c8e21213e2c7",
   "metadata": {},
   "outputs": [
    {
     "data": {
      "text/plain": [
       "17"
      ]
     },
     "execution_count": 110,
     "metadata": {},
     "output_type": "execute_result"
    }
   ],
   "source": [
    "# This a simple arithmetic expression to mutiply then add integers\n",
    "(3*4)+5"
   ]
  },
  {
   "cell_type": "code",
   "execution_count": 112,
   "id": "d5e63164-0c43-4e33-b3e3-85e7ed753147",
   "metadata": {},
   "outputs": [
    {
     "data": {
      "text/plain": [
       "3.3333333333333335"
      ]
     },
     "execution_count": 112,
     "metadata": {},
     "output_type": "execute_result"
    }
   ],
   "source": [
    "# This will convert 200 minutes to hours by diving by 60\n",
    "200 / 60"
   ]
  },
  {
   "cell_type": "markdown",
   "id": "862bec03-903c-4408-8634-e5f889e1d66f",
   "metadata": {},
   "source": [
    "**Objectives:**\n",
    "* List data science languages\n",
    "* List data science libraries\n",
    "* Multiply and add numbers\n",
    "* List Objectives"
   ]
  },
  {
   "cell_type": "markdown",
   "id": "cebf15e5-1529-47be-90db-43aa1069343d",
   "metadata": {},
   "source": [
    "## Author"
   ]
  },
  {
   "cell_type": "markdown",
   "id": "fca760ad-eee2-4187-b556-a398b6c98a29",
   "metadata": {},
   "source": [
    "Baltaev Ruslan"
   ]
  }
 ],
 "metadata": {
  "kernelspec": {
   "display_name": "Python 3 (ipykernel)",
   "language": "python",
   "name": "python3"
  },
  "language_info": {
   "codemirror_mode": {
    "name": "ipython",
    "version": 3
   },
   "file_extension": ".py",
   "mimetype": "text/x-python",
   "name": "python",
   "nbconvert_exporter": "python",
   "pygments_lexer": "ipython3",
   "version": "3.11.7"
  }
 },
 "nbformat": 4,
 "nbformat_minor": 5
}
